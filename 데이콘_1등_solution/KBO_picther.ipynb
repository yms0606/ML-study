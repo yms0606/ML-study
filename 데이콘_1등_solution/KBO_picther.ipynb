{
  "cells": [
    {
      "cell_type": "markdown",
      "metadata": {
        "id": "view-in-github",
        "colab_type": "text"
      },
      "source": [
        "<a href=\"https://colab.research.google.com/github/yms0606/ML-study/blob/main/%EB%8D%B0%EC%9D%B4%EC%BD%98_1%EB%93%B1_solution/KBO_picther.ipynb\" target=\"_parent\"><img src=\"https://colab.research.google.com/assets/colab-badge.svg\" alt=\"Open In Colab\"/></a>"
      ]
    },
    {
      "cell_type": "code",
      "execution_count": null,
      "id": "catholic-ferry",
      "metadata": {
        "id": "catholic-ferry"
      },
      "outputs": [],
      "source": [
        "import matplotlib as plt\n",
        "import numpy as np\n",
        "import pandas as pd\n",
        "import seaborn as sns\n",
        "import statsmodels"
      ]
    },
    {
      "cell_type": "code",
      "execution_count": null,
      "id": "secret-timber",
      "metadata": {
        "id": "secret-timber"
      },
      "outputs": [],
      "source": [
        "_11_18_KboRegSsn = pd.read_csv(\"kbo_yearly_foreigners_2011_2018.csv\") # 역대 KBO 정규시즌 성적"
      ]
    },
    {
      "cell_type": "code",
      "execution_count": null,
      "id": "radical-lecture",
      "metadata": {
        "id": "radical-lecture",
        "outputId": "6bf9d14e-e044-48f3-bfcd-d01591c0ba76"
      },
      "outputs": [
        {
          "data": {
            "text/plain": [
              "(105, 11)"
            ]
          },
          "execution_count": 7,
          "metadata": {},
          "output_type": "execute_result"
        }
      ],
      "source": [
        "_11_18_KboRegSsn.shape"
      ]
    },
    {
      "cell_type": "code",
      "execution_count": null,
      "id": "angry-horizon",
      "metadata": {
        "id": "angry-horizon"
      },
      "outputs": [],
      "source": [
        "_11_18_MlbTot = pd.read_csv('fangraphs_foreigners_2011_2018.csv') #KBO 입성 전, MLB에서의 역대 정규시즌 성적"
      ]
    },
    {
      "cell_type": "code",
      "execution_count": null,
      "id": "opposite-helen",
      "metadata": {
        "id": "opposite-helen",
        "outputId": "18316d44-c17f-4a39-a1f3-2c122e926e4a"
      },
      "outputs": [
        {
          "data": {
            "text/plain": [
              "(205, 19)"
            ]
          },
          "execution_count": 9,
          "metadata": {},
          "output_type": "execute_result"
        }
      ],
      "source": [
        "_11_18_MlbTot.shape"
      ]
    },
    {
      "cell_type": "code",
      "execution_count": null,
      "id": "forced-mambo",
      "metadata": {
        "id": "forced-mambo"
      },
      "outputs": [],
      "source": [
        "_19_MlbTot = pd.read_csv('fangraphs_foreigners_2019.csv') # 2019 신규 외국인 투수 MLB에서의 역대 정규시즌 성적"
      ]
    },
    {
      "cell_type": "code",
      "execution_count": null,
      "id": "cognitive-peter",
      "metadata": {
        "id": "cognitive-peter",
        "outputId": "66a2f57c-448b-451e-fda6-4bac1641f27c"
      },
      "outputs": [
        {
          "data": {
            "text/plain": [
              "(41, 19)"
            ]
          },
          "execution_count": 11,
          "metadata": {},
          "output_type": "execute_result"
        }
      ],
      "source": [
        "_19_MlbTot.shape"
      ]
    },
    {
      "cell_type": "code",
      "execution_count": null,
      "id": "beginning-equation",
      "metadata": {
        "id": "beginning-equation",
        "outputId": "a7c6d5f1-eda2-4dfa-bae0-14ecdb6d5a83"
      },
      "outputs": [
        {
          "data": {
            "text/plain": [
              "Index(['pitcher_name', 'year', 'team', 'ERA', 'TBF', 'H', 'HR', 'BB', 'HBP',\n",
              "       'SO', 'year_born'],\n",
              "      dtype='object')"
            ]
          },
          "execution_count": 12,
          "metadata": {},
          "output_type": "execute_result"
        }
      ],
      "source": [
        "_11_18_KboRegSsn.columns"
      ]
    },
    {
      "cell_type": "code",
      "execution_count": null,
      "id": "solar-birmingham",
      "metadata": {
        "id": "solar-birmingham",
        "outputId": "79a6881c-1af5-47ae-aced-2a967be7a417"
      },
      "outputs": [
        {
          "data": {
            "text/plain": [
              "Index(['pitcher_name', 'year', 'ERA', 'WAR', 'TBF', 'H', 'HR', 'BB', 'HBP',\n",
              "       'SO', 'WHIP', 'BABIP', 'FIP', 'LD%', 'GB%', 'FB%', 'IFFB%', 'SwStr%',\n",
              "       'Swing%'],\n",
              "      dtype='object')"
            ]
          },
          "execution_count": 13,
          "metadata": {},
          "output_type": "execute_result"
        }
      ],
      "source": [
        "_11_18_MlbTot.columns"
      ]
    },
    {
      "cell_type": "code",
      "execution_count": null,
      "id": "later-hierarchy",
      "metadata": {
        "id": "later-hierarchy",
        "outputId": "a529edca-86e2-455b-a115-73dd22bf1f10"
      },
      "outputs": [
        {
          "data": {
            "text/plain": [
              "Index(['pitcher_name', 'year', 'ERA', 'WAR', 'TBF', 'H', 'HR', 'BB', 'HBP',\n",
              "       'SO', 'WHIP', 'BABIP', 'FIP', 'LD%', 'GB%', 'FB%', 'IFFB%', 'SwStr%',\n",
              "       'Swing%'],\n",
              "      dtype='object')"
            ]
          },
          "execution_count": 14,
          "metadata": {},
          "output_type": "execute_result"
        }
      ],
      "source": [
        "_19_MlbTot.columns"
      ]
    },
    {
      "cell_type": "code",
      "execution_count": null,
      "id": "exposed-blowing",
      "metadata": {
        "id": "exposed-blowing",
        "outputId": "01641bdc-1152-4129-f882-40a0aad8e56c"
      },
      "outputs": [
        {
          "data": {
            "text/plain": [
              "array([[<AxesSubplot:title={'center':'ERA'}>,\n",
              "        <AxesSubplot:title={'center':'TBF'}>]], dtype=object)"
            ]
          },
          "execution_count": 15,
          "metadata": {},
          "output_type": "execute_result"
        },
        {
          "data": {
            "image/png": "[encoded data removed]",
            "text/plain": [
              "<Figure size 432x288 with 2 Axes>"
            ]
          },
          "metadata": {
            "needs_background": "light"
          },
          "output_type": "display_data"
        }
      ],
      "source": [
        "_11_18_KboRegSsn[['ERA','TBF']].hist()"
      ]
    },
    {
      "cell_type": "code",
      "execution_count": null,
      "id": "parental-corner",
      "metadata": {
        "id": "parental-corner",
        "outputId": "4e2f6abe-9bab-4c6c-f182-3ff26234d3ff"
      },
      "outputs": [
        {
          "data": {
            "text/html": [
              "<div>\n",
              "<style scoped>\n",
              "    .dataframe tbody tr th:only-of-type {\n",
              "        vertical-align: middle;\n",
              "    }\n",
              "\n",
              "    .dataframe tbody tr th {\n",
              "        vertical-align: top;\n",
              "    }\n",
              "\n",
              "    .dataframe thead th {\n",
              "        text-align: right;\n",
              "    }\n",
              "</style>\n",
              "<table border=\"1\" class=\"dataframe\">\n",
              "  <thead>\n",
              "    <tr style=\"text-align: right;\">\n",
              "      <th></th>\n",
              "      <th>ERA</th>\n",
              "      <th>TBF</th>\n",
              "    </tr>\n",
              "  </thead>\n",
              "  <tbody>\n",
              "    <tr>\n",
              "      <th>count</th>\n",
              "      <td>105.000000</td>\n",
              "      <td>105.000000</td>\n",
              "    </tr>\n",
              "    <tr>\n",
              "      <th>mean</th>\n",
              "      <td>4.714286</td>\n",
              "      <td>558.980952</td>\n",
              "    </tr>\n",
              "    <tr>\n",
              "      <th>std</th>\n",
              "      <td>1.733072</td>\n",
              "      <td>224.436816</td>\n",
              "    </tr>\n",
              "    <tr>\n",
              "      <th>min</th>\n",
              "      <td>2.380000</td>\n",
              "      <td>40.000000</td>\n",
              "    </tr>\n",
              "    <tr>\n",
              "      <th>25%</th>\n",
              "      <td>3.740000</td>\n",
              "      <td>349.000000</td>\n",
              "    </tr>\n",
              "    <tr>\n",
              "      <th>50%</th>\n",
              "      <td>4.420000</td>\n",
              "      <td>622.000000</td>\n",
              "    </tr>\n",
              "    <tr>\n",
              "      <th>75%</th>\n",
              "      <td>5.230000</td>\n",
              "      <td>758.000000</td>\n",
              "    </tr>\n",
              "    <tr>\n",
              "      <th>max</th>\n",
              "      <td>15.750000</td>\n",
              "      <td>870.000000</td>\n",
              "    </tr>\n",
              "  </tbody>\n",
              "</table>\n",
              "</div>"
            ],
            "text/plain": [
              "              ERA         TBF\n",
              "count  105.000000  105.000000\n",
              "mean     4.714286  558.980952\n",
              "std      1.733072  224.436816\n",
              "min      2.380000   40.000000\n",
              "25%      3.740000  349.000000\n",
              "50%      4.420000  622.000000\n",
              "75%      5.230000  758.000000\n",
              "max     15.750000  870.000000"
            ]
          },
          "execution_count": 16,
          "metadata": {},
          "output_type": "execute_result"
        }
      ],
      "source": [
        "_11_18_KboRegSsn[['ERA','TBF']].describe()"
      ]
    },
    {
      "cell_type": "code",
      "execution_count": null,
      "id": "equal-anthropology",
      "metadata": {
        "id": "equal-anthropology",
        "outputId": "b1e61fb4-c7db-46a6-ef08-8526f5358078"
      },
      "outputs": [
        {
          "name": "stdout",
          "output_type": "stream",
          "text": [
            "              ERA         TBF\n",
            "count  205.000000  205.000000\n",
            "mean     5.750585  193.160976\n",
            "std      3.404285  186.000312\n",
            "min      0.000000    4.000000\n",
            "25%      4.050000   57.000000\n",
            "50%      5.200000  126.000000\n",
            "75%      6.750000  263.000000\n",
            "max     27.000000  827.000000\n"
          ]
        },
        {
          "data": {
            "image/png": "[encoded data removed]",
            "text/plain": [
              "<Figure size 432x288 with 2 Axes>"
            ]
          },
          "metadata": {
            "needs_background": "light"
          },
          "output_type": "display_data"
        }
      ],
      "source": [
        "_11_18_MlbTot[['ERA','TBF']].hist()\n",
        "print(_11_18_MlbTot[['ERA','TBF']].describe())"
      ]
    },
    {
      "cell_type": "markdown",
      "id": "cognitive-kuwait",
      "metadata": {
        "id": "cognitive-kuwait"
      },
      "source": [
        "당연하겠지만 KBO에 오는 외국인 투수는 MLB에서의 선발 경험이 적어 TBF 분포가 작을 수 밖에 없음"
      ]
    },
    {
      "cell_type": "code",
      "execution_count": null,
      "id": "bigger-presentation",
      "metadata": {
        "id": "bigger-presentation",
        "outputId": "5a6cb3e6-189c-458c-e5fe-341a174cc7f1"
      },
      "outputs": [
        {
          "data": {
            "text/html": [
              "<div>\n",
              "<style scoped>\n",
              "    .dataframe tbody tr th:only-of-type {\n",
              "        vertical-align: middle;\n",
              "    }\n",
              "\n",
              "    .dataframe tbody tr th {\n",
              "        vertical-align: top;\n",
              "    }\n",
              "\n",
              "    .dataframe thead th {\n",
              "        text-align: right;\n",
              "    }\n",
              "</style>\n",
              "<table border=\"1\" class=\"dataframe\">\n",
              "  <thead>\n",
              "    <tr style=\"text-align: right;\">\n",
              "      <th></th>\n",
              "      <th>pitcher_name</th>\n",
              "      <th>MLB_ERA</th>\n",
              "      <th>KBO_ERA</th>\n",
              "    </tr>\n",
              "  </thead>\n",
              "  <tbody>\n",
              "    <tr>\n",
              "      <th>0</th>\n",
              "      <td>니퍼트</td>\n",
              "      <td>4.290000</td>\n",
              "      <td>3.687500</td>\n",
              "    </tr>\n",
              "    <tr>\n",
              "      <th>1</th>\n",
              "      <td>다이아몬드</td>\n",
              "      <td>10.262500</td>\n",
              "      <td>4.420000</td>\n",
              "    </tr>\n",
              "    <tr>\n",
              "      <th>2</th>\n",
              "      <td>듀브론트</td>\n",
              "      <td>5.106667</td>\n",
              "      <td>4.920000</td>\n",
              "    </tr>\n",
              "    <tr>\n",
              "      <th>3</th>\n",
              "      <td>레나도</td>\n",
              "      <td>7.306667</td>\n",
              "      <td>6.800000</td>\n",
              "    </tr>\n",
              "    <tr>\n",
              "      <th>4</th>\n",
              "      <td>레온</td>\n",
              "      <td>6.050000</td>\n",
              "      <td>11.250000</td>\n",
              "    </tr>\n",
              "    <tr>\n",
              "      <th>5</th>\n",
              "      <td>레이예스</td>\n",
              "      <td>12.956667</td>\n",
              "      <td>5.695000</td>\n",
              "    </tr>\n",
              "    <tr>\n",
              "      <th>6</th>\n",
              "      <td>레일리</td>\n",
              "      <td>6.640000</td>\n",
              "      <td>4.197500</td>\n",
              "    </tr>\n",
              "    <tr>\n",
              "      <th>7</th>\n",
              "      <td>로저스</td>\n",
              "      <td>5.771667</td>\n",
              "      <td>3.690000</td>\n",
              "    </tr>\n",
              "    <tr>\n",
              "      <th>8</th>\n",
              "      <td>루카스</td>\n",
              "      <td>5.687143</td>\n",
              "      <td>4.930000</td>\n",
              "    </tr>\n",
              "    <tr>\n",
              "      <th>9</th>\n",
              "      <td>리즈</td>\n",
              "      <td>4.240000</td>\n",
              "      <td>3.543333</td>\n",
              "    </tr>\n",
              "    <tr>\n",
              "      <th>10</th>\n",
              "      <td>린드블럼</td>\n",
              "      <td>4.688000</td>\n",
              "      <td>3.860000</td>\n",
              "    </tr>\n",
              "    <tr>\n",
              "      <th>11</th>\n",
              "      <td>마야</td>\n",
              "      <td>5.555000</td>\n",
              "      <td>6.515000</td>\n",
              "    </tr>\n",
              "    <tr>\n",
              "      <th>12</th>\n",
              "      <td>맨쉽</td>\n",
              "      <td>5.571429</td>\n",
              "      <td>3.670000</td>\n",
              "    </tr>\n",
              "    <tr>\n",
              "      <th>13</th>\n",
              "      <td>베렛</td>\n",
              "      <td>4.336667</td>\n",
              "      <td>5.280000</td>\n",
              "    </tr>\n",
              "    <tr>\n",
              "      <th>14</th>\n",
              "      <td>보니야</td>\n",
              "      <td>5.575000</td>\n",
              "      <td>5.300000</td>\n",
              "    </tr>\n",
              "    <tr>\n",
              "      <th>15</th>\n",
              "      <td>보우덴</td>\n",
              "      <td>4.000000</td>\n",
              "      <td>4.220000</td>\n",
              "    </tr>\n",
              "    <tr>\n",
              "      <th>16</th>\n",
              "      <td>볼스테드</td>\n",
              "      <td>5.358571</td>\n",
              "      <td>6.210000</td>\n",
              "    </tr>\n",
              "    <tr>\n",
              "      <th>17</th>\n",
              "      <td>비야누에바</td>\n",
              "      <td>4.345714</td>\n",
              "      <td>4.180000</td>\n",
              "    </tr>\n",
              "    <tr>\n",
              "      <th>18</th>\n",
              "      <td>산체스</td>\n",
              "      <td>8.760000</td>\n",
              "      <td>4.890000</td>\n",
              "    </tr>\n",
              "    <tr>\n",
              "      <th>19</th>\n",
              "      <td>샘슨</td>\n",
              "      <td>5.445000</td>\n",
              "      <td>4.680000</td>\n",
              "    </tr>\n",
              "    <tr>\n",
              "      <th>20</th>\n",
              "      <td>서캠프</td>\n",
              "      <td>10.390000</td>\n",
              "      <td>6.310000</td>\n",
              "    </tr>\n",
              "    <tr>\n",
              "      <th>21</th>\n",
              "      <td>세든</td>\n",
              "      <td>4.655000</td>\n",
              "      <td>4.446667</td>\n",
              "    </tr>\n",
              "    <tr>\n",
              "      <th>22</th>\n",
              "      <td>소사</td>\n",
              "      <td>5.230000</td>\n",
              "      <td>4.315714</td>\n",
              "    </tr>\n",
              "    <tr>\n",
              "      <th>23</th>\n",
              "      <td>스와잭</td>\n",
              "      <td>4.280000</td>\n",
              "      <td>5.260000</td>\n",
              "    </tr>\n",
              "    <tr>\n",
              "      <th>24</th>\n",
              "      <td>스틴슨</td>\n",
              "      <td>4.322500</td>\n",
              "      <td>4.960000</td>\n",
              "    </tr>\n",
              "    <tr>\n",
              "      <th>25</th>\n",
              "      <td>아담</td>\n",
              "      <td>6.770000</td>\n",
              "      <td>4.120000</td>\n",
              "    </tr>\n",
              "    <tr>\n",
              "      <th>26</th>\n",
              "      <td>아델만</td>\n",
              "      <td>4.760000</td>\n",
              "      <td>5.050000</td>\n",
              "    </tr>\n",
              "    <tr>\n",
              "      <th>27</th>\n",
              "      <td>앨버스</td>\n",
              "      <td>4.187500</td>\n",
              "      <td>5.890000</td>\n",
              "    </tr>\n",
              "    <tr>\n",
              "      <th>28</th>\n",
              "      <td>어센시오</td>\n",
              "      <td>6.530000</td>\n",
              "      <td>4.050000</td>\n",
              "    </tr>\n",
              "    <tr>\n",
              "      <th>29</th>\n",
              "      <td>어윈</td>\n",
              "      <td>7.230000</td>\n",
              "      <td>8.680000</td>\n",
              "    </tr>\n",
              "    <tr>\n",
              "      <th>30</th>\n",
              "      <td>에반</td>\n",
              "      <td>4.540000</td>\n",
              "      <td>4.440000</td>\n",
              "    </tr>\n",
              "    <tr>\n",
              "      <th>31</th>\n",
              "      <td>오간도</td>\n",
              "      <td>5.495000</td>\n",
              "      <td>3.930000</td>\n",
              "    </tr>\n",
              "    <tr>\n",
              "      <th>32</th>\n",
              "      <td>오설리반</td>\n",
              "      <td>5.986667</td>\n",
              "      <td>15.750000</td>\n",
              "    </tr>\n",
              "    <tr>\n",
              "      <th>33</th>\n",
              "      <td>올슨</td>\n",
              "      <td>3.310000</td>\n",
              "      <td>6.520000</td>\n",
              "    </tr>\n",
              "    <tr>\n",
              "      <th>34</th>\n",
              "      <td>울프</td>\n",
              "      <td>4.205000</td>\n",
              "      <td>4.850000</td>\n",
              "    </tr>\n",
              "    <tr>\n",
              "      <th>35</th>\n",
              "      <td>웨버</td>\n",
              "      <td>5.700000</td>\n",
              "      <td>4.580000</td>\n",
              "    </tr>\n",
              "    <tr>\n",
              "      <th>36</th>\n",
              "      <td>웹스터</td>\n",
              "      <td>6.360000</td>\n",
              "      <td>5.700000</td>\n",
              "    </tr>\n",
              "    <tr>\n",
              "      <th>37</th>\n",
              "      <td>윌슨</td>\n",
              "      <td>5.270000</td>\n",
              "      <td>3.070000</td>\n",
              "    </tr>\n",
              "    <tr>\n",
              "      <th>38</th>\n",
              "      <td>이브랜드</td>\n",
              "      <td>5.263333</td>\n",
              "      <td>5.540000</td>\n",
              "    </tr>\n",
              "    <tr>\n",
              "      <th>39</th>\n",
              "      <td>지크</td>\n",
              "      <td>4.565000</td>\n",
              "      <td>5.270000</td>\n",
              "    </tr>\n",
              "    <tr>\n",
              "      <th>40</th>\n",
              "      <td>카스티요</td>\n",
              "      <td>13.500000</td>\n",
              "      <td>6.430000</td>\n",
              "    </tr>\n",
              "    <tr>\n",
              "      <th>41</th>\n",
              "      <td>코엘로</td>\n",
              "      <td>7.086667</td>\n",
              "      <td>3.770000</td>\n",
              "    </tr>\n",
              "    <tr>\n",
              "      <th>42</th>\n",
              "      <td>코프랜드</td>\n",
              "      <td>3.230000</td>\n",
              "      <td>5.540000</td>\n",
              "    </tr>\n",
              "    <tr>\n",
              "      <th>43</th>\n",
              "      <td>클로이드</td>\n",
              "      <td>5.032500</td>\n",
              "      <td>5.190000</td>\n",
              "    </tr>\n",
              "    <tr>\n",
              "      <th>44</th>\n",
              "      <td>탈보트</td>\n",
              "      <td>5.525000</td>\n",
              "      <td>4.345000</td>\n",
              "    </tr>\n",
              "    <tr>\n",
              "      <th>45</th>\n",
              "      <td>토마스</td>\n",
              "      <td>7.225000</td>\n",
              "      <td>4.440000</td>\n",
              "    </tr>\n",
              "    <tr>\n",
              "      <th>46</th>\n",
              "      <td>티포드</td>\n",
              "      <td>3.283333</td>\n",
              "      <td>5.240000</td>\n",
              "    </tr>\n",
              "    <tr>\n",
              "      <th>47</th>\n",
              "      <td>팻딘</td>\n",
              "      <td>6.280000</td>\n",
              "      <td>5.200000</td>\n",
              "    </tr>\n",
              "    <tr>\n",
              "      <th>48</th>\n",
              "      <td>플란데</td>\n",
              "      <td>7.400000</td>\n",
              "      <td>7.600000</td>\n",
              "    </tr>\n",
              "    <tr>\n",
              "      <th>49</th>\n",
              "      <td>피가로</td>\n",
              "      <td>6.053333</td>\n",
              "      <td>3.380000</td>\n",
              "    </tr>\n",
              "    <tr>\n",
              "      <th>50</th>\n",
              "      <td>피노</td>\n",
              "      <td>4.165000</td>\n",
              "      <td>7.150000</td>\n",
              "    </tr>\n",
              "    <tr>\n",
              "      <th>51</th>\n",
              "      <td>피어밴드</td>\n",
              "      <td>6.140000</td>\n",
              "      <td>4.115000</td>\n",
              "    </tr>\n",
              "    <tr>\n",
              "      <th>52</th>\n",
              "      <td>해커</td>\n",
              "      <td>2.795000</td>\n",
              "      <td>3.806667</td>\n",
              "    </tr>\n",
              "    <tr>\n",
              "      <th>53</th>\n",
              "      <td>허프</td>\n",
              "      <td>6.191429</td>\n",
              "      <td>2.755000</td>\n",
              "    </tr>\n",
              "    <tr>\n",
              "      <th>54</th>\n",
              "      <td>험버</td>\n",
              "      <td>5.560000</td>\n",
              "      <td>6.750000</td>\n",
              "    </tr>\n",
              "    <tr>\n",
              "      <th>55</th>\n",
              "      <td>헤일</td>\n",
              "      <td>5.664000</td>\n",
              "      <td>4.340000</td>\n",
              "    </tr>\n",
              "    <tr>\n",
              "      <th>56</th>\n",
              "      <td>헥터</td>\n",
              "      <td>5.704000</td>\n",
              "      <td>3.826667</td>\n",
              "    </tr>\n",
              "    <tr>\n",
              "      <th>57</th>\n",
              "      <td>후랭코프</td>\n",
              "      <td>9.000000</td>\n",
              "      <td>3.740000</td>\n",
              "    </tr>\n",
              "    <tr>\n",
              "      <th>58</th>\n",
              "      <td>휠러</td>\n",
              "      <td>9.000000</td>\n",
              "      <td>5.130000</td>\n",
              "    </tr>\n",
              "  </tbody>\n",
              "</table>\n",
              "</div>"
            ],
            "text/plain": [
              "   pitcher_name    MLB_ERA    KBO_ERA\n",
              "0           니퍼트   4.290000   3.687500\n",
              "1         다이아몬드  10.262500   4.420000\n",
              "2          듀브론트   5.106667   4.920000\n",
              "3           레나도   7.306667   6.800000\n",
              "4            레온   6.050000  11.250000\n",
              "5          레이예스  12.956667   5.695000\n",
              "6           레일리   6.640000   4.197500\n",
              "7           로저스   5.771667   3.690000\n",
              "8           루카스   5.687143   4.930000\n",
              "9            리즈   4.240000   3.543333\n",
              "10         린드블럼   4.688000   3.860000\n",
              "11           마야   5.555000   6.515000\n",
              "12           맨쉽   5.571429   3.670000\n",
              "13           베렛   4.336667   5.280000\n",
              "14          보니야   5.575000   5.300000\n",
              "15          보우덴   4.000000   4.220000\n",
              "16         볼스테드   5.358571   6.210000\n",
              "17        비야누에바   4.345714   4.180000\n",
              "18          산체스   8.760000   4.890000\n",
              "19           샘슨   5.445000   4.680000\n",
              "20          서캠프  10.390000   6.310000\n",
              "21           세든   4.655000   4.446667\n",
              "22           소사   5.230000   4.315714\n",
              "23          스와잭   4.280000   5.260000\n",
              "24          스틴슨   4.322500   4.960000\n",
              "25           아담   6.770000   4.120000\n",
              "26          아델만   4.760000   5.050000\n",
              "27          앨버스   4.187500   5.890000\n",
              "28         어센시오   6.530000   4.050000\n",
              "29           어윈   7.230000   8.680000\n",
              "30           에반   4.540000   4.440000\n",
              "31          오간도   5.495000   3.930000\n",
              "32         오설리반   5.986667  15.750000\n",
              "33           올슨   3.310000   6.520000\n",
              "34           울프   4.205000   4.850000\n",
              "35           웨버   5.700000   4.580000\n",
              "36          웹스터   6.360000   5.700000\n",
              "37           윌슨   5.270000   3.070000\n",
              "38         이브랜드   5.263333   5.540000\n",
              "39           지크   4.565000   5.270000\n",
              "40         카스티요  13.500000   6.430000\n",
              "41          코엘로   7.086667   3.770000\n",
              "42         코프랜드   3.230000   5.540000\n",
              "43         클로이드   5.032500   5.190000\n",
              "44          탈보트   5.525000   4.345000\n",
              "45          토마스   7.225000   4.440000\n",
              "46          티포드   3.283333   5.240000\n",
              "47           팻딘   6.280000   5.200000\n",
              "48          플란데   7.400000   7.600000\n",
              "49          피가로   6.053333   3.380000\n",
              "50           피노   4.165000   7.150000\n",
              "51         피어밴드   6.140000   4.115000\n",
              "52           해커   2.795000   3.806667\n",
              "53           허프   6.191429   2.755000\n",
              "54           험버   5.560000   6.750000\n",
              "55           헤일   5.664000   4.340000\n",
              "56           헥터   5.704000   3.826667\n",
              "57         후랭코프   9.000000   3.740000\n",
              "58           휠러   9.000000   5.130000"
            ]
          },
          "execution_count": 29,
          "metadata": {},
          "output_type": "execute_result"
        }
      ],
      "source": [
        "m_mean = (_11_18_MlbTot.groupby('pitcher_name')['ERA'].mean().reset_index().rename(columns = {'ERA':'MLB_ERA'}))\n",
        "k_mean = (_11_18_KboRegSsn.groupby('pitcher_name')['ERA'].mean().reset_index().rename(columns = {'ERA':'KBO_ERA'}))\n",
        "df = pd.merge(m_mean, k_mean, on = 'pitcher_name')\n",
        "df"
      ]
    },
    {
      "cell_type": "code",
      "execution_count": null,
      "id": "significant-bloom",
      "metadata": {
        "id": "significant-bloom",
        "outputId": "0f3a6fc0-85c0-46f7-d37f-7dc69634aa0e"
      },
      "outputs": [
        {
          "data": {
            "text/plain": [
              "<AxesSubplot:xlabel='MLB_ERA', ylabel='KBO_ERA'>"
            ]
          },
          "execution_count": 30,
          "metadata": {},
          "output_type": "execute_result"
        },
        {
          "data": {
            "image/png": "[encoded data removed]",
            "text/plain": [
              "<Figure size 432x288 with 1 Axes>"
            ]
          },
          "metadata": {
            "needs_background": "light"
          },
          "output_type": "display_data"
        }
      ],
      "source": [
        "df.plot(kind = 'scatter', x = 'MLB_ERA', y = 'KBO_ERA')"
      ]
    },
    {
      "cell_type": "code",
      "execution_count": null,
      "id": "temporal-atlanta",
      "metadata": {
        "id": "temporal-atlanta",
        "outputId": "22687d8a-d33a-4367-bc17-f2ba2b442746"
      },
      "outputs": [
        {
          "data": {
            "text/html": [
              "<div>\n",
              "<style scoped>\n",
              "    .dataframe tbody tr th:only-of-type {\n",
              "        vertical-align: middle;\n",
              "    }\n",
              "\n",
              "    .dataframe tbody tr th {\n",
              "        vertical-align: top;\n",
              "    }\n",
              "\n",
              "    .dataframe thead th {\n",
              "        text-align: right;\n",
              "    }\n",
              "</style>\n",
              "<table border=\"1\" class=\"dataframe\">\n",
              "  <thead>\n",
              "    <tr style=\"text-align: right;\">\n",
              "      <th></th>\n",
              "      <th>MLB_ERA</th>\n",
              "      <th>KBO_ERA</th>\n",
              "    </tr>\n",
              "  </thead>\n",
              "  <tbody>\n",
              "    <tr>\n",
              "      <th>MLB_ERA</th>\n",
              "      <td>1.000000</td>\n",
              "      <td>0.107744</td>\n",
              "    </tr>\n",
              "    <tr>\n",
              "      <th>KBO_ERA</th>\n",
              "      <td>0.107744</td>\n",
              "      <td>1.000000</td>\n",
              "    </tr>\n",
              "  </tbody>\n",
              "</table>\n",
              "</div>"
            ],
            "text/plain": [
              "          MLB_ERA   KBO_ERA\n",
              "MLB_ERA  1.000000  0.107744\n",
              "KBO_ERA  0.107744  1.000000"
            ]
          },
          "execution_count": 31,
          "metadata": {},
          "output_type": "execute_result"
        }
      ],
      "source": [
        "df.corr()"
      ]
    },
    {
      "cell_type": "markdown",
      "id": "substantial-board",
      "metadata": {
        "id": "substantial-board"
      },
      "source": [
        "상관 계수가 크게 높지 않음(0.1077)"
      ]
    },
    {
      "cell_type": "markdown",
      "id": "aware-filing",
      "metadata": {
        "id": "aware-filing"
      },
      "source": [
        "MLB 성적이 좋다고 KBO 성적이 좋은 경향은 없다고 하지만"
      ]
    },
    {
      "cell_type": "markdown",
      "id": "southwest-musician",
      "metadata": {
        "id": "southwest-musician"
      },
      "source": [
        "그래도 전반적으로 MLB 평자가 낮은 투수가 KBO에서도 낮은 평자를 유지하는게 아닌가..?"
      ]
    },
    {
      "cell_type": "code",
      "execution_count": null,
      "id": "quiet-asthma",
      "metadata": {
        "id": "quiet-asthma"
      },
      "outputs": [],
      "source": [
        "_11_18_StatCast = pd.read_csv('baseball_savant_foreigners_2011_2018.csv') #KBO 입성 전 MLB에서의 스탯캐스트\n",
        "_19_StatCast = pd.read_csv('baseball_savant_foreigners_2019.csv') # 2019 신규 외국인의 MLB에서의 스탯캐스트"
      ]
    },
    {
      "cell_type": "code",
      "execution_count": null,
      "id": "distinguished-sellers",
      "metadata": {
        "id": "distinguished-sellers",
        "outputId": "367686a1-7bdf-473c-9d44-f42c8fe3cc11"
      },
      "outputs": [
        {
          "name": "stdout",
          "output_type": "stream",
          "text": [
            "(135753, 24) (21903, 24)\n"
          ]
        }
      ],
      "source": [
        "print(_11_18_StatCast.shape, _19_StatCast.shape)"
      ]
    },
    {
      "cell_type": "code",
      "execution_count": null,
      "id": "settled-heart",
      "metadata": {
        "id": "settled-heart",
        "outputId": "7b3c93af-f234-4e48-d06c-e0f3e5ce4c0f"
      },
      "outputs": [
        {
          "name": "stdout",
          "output_type": "stream",
          "text": [
            "Index(['game_date', 'release_speed', 'batter', 'pitcher', 'events',\n",
            "       'description', 'zone', 'stand', 'p_throws', 'bb_type', 'balls',\n",
            "       'strikes', 'pfx_x', 'pfx_z', 'plate_x', 'plate_z', 'ax', 'ay', 'az',\n",
            "       'launch_speed', 'launch_angle', 'release_spin_rate', 'pitch_name',\n",
            "       'pitcher_name'],\n",
            "      dtype='object') \n",
            " Index(['game_date', 'release_speed', 'batter', 'pitcher', 'events',\n",
            "       'description', 'zone', 'stand', 'p_throws', 'bb_type', 'balls',\n",
            "       'strikes', 'pfx_x', 'pfx_z', 'plate_x', 'plate_z', 'ax', 'ay', 'az',\n",
            "       'launch_speed', 'launch_angle', 'release_spin_rate', 'pitch_name',\n",
            "       'pitcher_name'],\n",
            "      dtype='object')\n"
          ]
        }
      ],
      "source": [
        "print(_11_18_StatCast.columns,'\\n',_19_StatCast.columns)"
      ]
    },
    {
      "cell_type": "code",
      "execution_count": null,
      "id": "indirect-action",
      "metadata": {
        "id": "indirect-action",
        "outputId": "5b4b6d6e-159f-4154-e732-1e331434c2eb"
      },
      "outputs": [
        {
          "data": {
            "text/html": [
              "<div>\n",
              "<style scoped>\n",
              "    .dataframe tbody tr th:only-of-type {\n",
              "        vertical-align: middle;\n",
              "    }\n",
              "\n",
              "    .dataframe tbody tr th {\n",
              "        vertical-align: top;\n",
              "    }\n",
              "\n",
              "    .dataframe thead th {\n",
              "        text-align: right;\n",
              "    }\n",
              "</style>\n",
              "<table border=\"1\" class=\"dataframe\">\n",
              "  <thead>\n",
              "    <tr style=\"text-align: right;\">\n",
              "      <th></th>\n",
              "      <th>pitcher_name</th>\n",
              "      <th>events</th>\n",
              "      <th>description</th>\n",
              "      <th>pitch_name</th>\n",
              "    </tr>\n",
              "  </thead>\n",
              "  <tbody>\n",
              "    <tr>\n",
              "      <th>0</th>\n",
              "      <td>니퍼트</td>\n",
              "      <td>field_out</td>\n",
              "      <td>hit_into_play</td>\n",
              "      <td>4-Seam Fastball</td>\n",
              "    </tr>\n",
              "    <tr>\n",
              "      <th>1</th>\n",
              "      <td>니퍼트</td>\n",
              "      <td>home_run</td>\n",
              "      <td>hit_into_play_score</td>\n",
              "      <td>4-Seam Fastball</td>\n",
              "    </tr>\n",
              "    <tr>\n",
              "      <th>2</th>\n",
              "      <td>니퍼트</td>\n",
              "      <td>NaN</td>\n",
              "      <td>foul</td>\n",
              "      <td>4-Seam Fastball</td>\n",
              "    </tr>\n",
              "    <tr>\n",
              "      <th>3</th>\n",
              "      <td>니퍼트</td>\n",
              "      <td>NaN</td>\n",
              "      <td>blocked_ball</td>\n",
              "      <td>4-Seam Fastball</td>\n",
              "    </tr>\n",
              "    <tr>\n",
              "      <th>4</th>\n",
              "      <td>니퍼트</td>\n",
              "      <td>NaN</td>\n",
              "      <td>ball</td>\n",
              "      <td>4-Seam Fastball</td>\n",
              "    </tr>\n",
              "    <tr>\n",
              "      <th>...</th>\n",
              "      <td>...</td>\n",
              "      <td>...</td>\n",
              "      <td>...</td>\n",
              "      <td>...</td>\n",
              "    </tr>\n",
              "    <tr>\n",
              "      <th>135748</th>\n",
              "      <td>산체스</td>\n",
              "      <td>NaN</td>\n",
              "      <td>ball</td>\n",
              "      <td>4-Seam Fastball</td>\n",
              "    </tr>\n",
              "    <tr>\n",
              "      <th>135749</th>\n",
              "      <td>산체스</td>\n",
              "      <td>field_out</td>\n",
              "      <td>hit_into_play</td>\n",
              "      <td>Cutter</td>\n",
              "    </tr>\n",
              "    <tr>\n",
              "      <th>135750</th>\n",
              "      <td>산체스</td>\n",
              "      <td>NaN</td>\n",
              "      <td>called_strike</td>\n",
              "      <td>Cutter</td>\n",
              "    </tr>\n",
              "    <tr>\n",
              "      <th>135751</th>\n",
              "      <td>산체스</td>\n",
              "      <td>NaN</td>\n",
              "      <td>ball</td>\n",
              "      <td>4-Seam Fastball</td>\n",
              "    </tr>\n",
              "    <tr>\n",
              "      <th>135752</th>\n",
              "      <td>산체스</td>\n",
              "      <td>NaN</td>\n",
              "      <td>ball</td>\n",
              "      <td>4-Seam Fastball</td>\n",
              "    </tr>\n",
              "  </tbody>\n",
              "</table>\n",
              "<p>135753 rows × 4 columns</p>\n",
              "</div>"
            ],
            "text/plain": [
              "       pitcher_name     events          description       pitch_name\n",
              "0               니퍼트  field_out        hit_into_play  4-Seam Fastball\n",
              "1               니퍼트   home_run  hit_into_play_score  4-Seam Fastball\n",
              "2               니퍼트        NaN                 foul  4-Seam Fastball\n",
              "3               니퍼트        NaN         blocked_ball  4-Seam Fastball\n",
              "4               니퍼트        NaN                 ball  4-Seam Fastball\n",
              "...             ...        ...                  ...              ...\n",
              "135748          산체스        NaN                 ball  4-Seam Fastball\n",
              "135749          산체스  field_out        hit_into_play           Cutter\n",
              "135750          산체스        NaN        called_strike           Cutter\n",
              "135751          산체스        NaN                 ball  4-Seam Fastball\n",
              "135752          산체스        NaN                 ball  4-Seam Fastball\n",
              "\n",
              "[135753 rows x 4 columns]"
            ]
          },
          "execution_count": 56,
          "metadata": {},
          "output_type": "execute_result"
        }
      ],
      "source": [
        "_11_18_StatCast[['pitcher_name','events','description','pitch_name']]\n",
        "# 투수가 숫자?"
      ]
    },
    {
      "cell_type": "code",
      "execution_count": null,
      "id": "equal-negotiation",
      "metadata": {
        "id": "equal-negotiation",
        "outputId": "5285b947-2706-4541-d6e1-517c2348eea5"
      },
      "outputs": [
        {
          "data": {
            "text/plain": [
              "<AxesSubplot:>"
            ]
          },
          "execution_count": 45,
          "metadata": {},
          "output_type": "execute_result"
        },
        {
          "data": {
            "image/png": "[encoded data removed]",
            "text/plain": [
              "<Figure size 576x576 with 1 Axes>"
            ]
          },
          "metadata": {
            "needs_background": "light"
          },
          "output_type": "display_data"
        }
      ],
      "source": [
        "_11_18_StatCast['events'].value_counts().sort_values(ascending = True).plot(kind = 'barh',figsize=(8,8))\n",
        "# 타석 결과 분포"
      ]
    },
    {
      "cell_type": "code",
      "execution_count": null,
      "id": "suited-oxygen",
      "metadata": {
        "id": "suited-oxygen",
        "outputId": "3e3c937c-efa2-4f8c-f439-f110d757a5ef"
      },
      "outputs": [
        {
          "data": {
            "text/plain": [
              "<AxesSubplot:>"
            ]
          },
          "execution_count": 44,
          "metadata": {},
          "output_type": "execute_result"
        },
        {
          "data": {
            "image/png": "[encoded data removed]",
            "text/plain": [
              "<Figure size 576x576 with 1 Axes>"
            ]
          },
          "metadata": {
            "needs_background": "light"
          },
          "output_type": "display_data"
        }
      ],
      "source": [
        "_11_18_StatCast['description'].value_counts().sort_values(ascending = True).plot(kind = 'barh', figsize = (8,8))\n",
        "# 투구 결과 분포"
      ]
    },
    {
      "cell_type": "code",
      "execution_count": null,
      "id": "bronze-nursery",
      "metadata": {
        "id": "bronze-nursery",
        "outputId": "09dfc356-a63d-4e2a-b813-da6afb18cca1"
      },
      "outputs": [
        {
          "data": {
            "text/plain": [
              "<AxesSubplot:>"
            ]
          },
          "execution_count": 52,
          "metadata": {},
          "output_type": "execute_result"
        },
        {
          "data": {
            "image/png": "[encoded data removed]",
            "text/plain": [
              "<Figure size 576x576 with 1 Axes>"
            ]
          },
          "metadata": {
            "needs_background": "light"
          },
          "output_type": "display_data"
        }
      ],
      "source": [
        "_11_18_StatCast['pitch_name'].value_counts().sort_values(ascending = True).plot(kind='barh',figsize=(8,8))\n",
        "# 구종 분포"
      ]
    },
    {
      "cell_type": "code",
      "execution_count": null,
      "id": "infinite-european",
      "metadata": {
        "id": "infinite-european",
        "outputId": "64e3dab4-5a05-42b5-d236-91c83bb21f97"
      },
      "outputs": [
        {
          "data": {
            "text/html": [
              "<div>\n",
              "<style scoped>\n",
              "    .dataframe tbody tr th:only-of-type {\n",
              "        vertical-align: middle;\n",
              "    }\n",
              "\n",
              "    .dataframe tbody tr th {\n",
              "        vertical-align: top;\n",
              "    }\n",
              "\n",
              "    .dataframe thead th {\n",
              "        text-align: right;\n",
              "    }\n",
              "</style>\n",
              "<table border=\"1\" class=\"dataframe\">\n",
              "  <thead>\n",
              "    <tr style=\"text-align: right;\">\n",
              "      <th></th>\n",
              "      <th>pitcher_name</th>\n",
              "      <th>year</th>\n",
              "      <th>team</th>\n",
              "      <th>ERA</th>\n",
              "      <th>TBF</th>\n",
              "      <th>H</th>\n",
              "      <th>HR</th>\n",
              "      <th>BB</th>\n",
              "      <th>HBP</th>\n",
              "      <th>SO</th>\n",
              "      <th>year_born</th>\n",
              "    </tr>\n",
              "  </thead>\n",
              "  <tbody>\n",
              "    <tr>\n",
              "      <th>0</th>\n",
              "      <td>니퍼트</td>\n",
              "      <td>2011</td>\n",
              "      <td>두산</td>\n",
              "      <td>2.55</td>\n",
              "      <td>763</td>\n",
              "      <td>150</td>\n",
              "      <td>8</td>\n",
              "      <td>64</td>\n",
              "      <td>10</td>\n",
              "      <td>150</td>\n",
              "      <td>NaN</td>\n",
              "    </tr>\n",
              "    <tr>\n",
              "      <th>1</th>\n",
              "      <td>니퍼트</td>\n",
              "      <td>2012</td>\n",
              "      <td>두산</td>\n",
              "      <td>3.20</td>\n",
              "      <td>785</td>\n",
              "      <td>156</td>\n",
              "      <td>15</td>\n",
              "      <td>68</td>\n",
              "      <td>8</td>\n",
              "      <td>126</td>\n",
              "      <td>NaN</td>\n",
              "    </tr>\n",
              "    <tr>\n",
              "      <th>2</th>\n",
              "      <td>니퍼트</td>\n",
              "      <td>2013</td>\n",
              "      <td>두산</td>\n",
              "      <td>3.58</td>\n",
              "      <td>482</td>\n",
              "      <td>108</td>\n",
              "      <td>7</td>\n",
              "      <td>34</td>\n",
              "      <td>4</td>\n",
              "      <td>104</td>\n",
              "      <td>NaN</td>\n",
              "    </tr>\n",
              "    <tr>\n",
              "      <th>3</th>\n",
              "      <td>니퍼트</td>\n",
              "      <td>2014</td>\n",
              "      <td>두산</td>\n",
              "      <td>3.81</td>\n",
              "      <td>760</td>\n",
              "      <td>186</td>\n",
              "      <td>17</td>\n",
              "      <td>48</td>\n",
              "      <td>6</td>\n",
              "      <td>158</td>\n",
              "      <td>NaN</td>\n",
              "    </tr>\n",
              "    <tr>\n",
              "      <th>4</th>\n",
              "      <td>니퍼트</td>\n",
              "      <td>2015</td>\n",
              "      <td>두산</td>\n",
              "      <td>5.10</td>\n",
              "      <td>404</td>\n",
              "      <td>104</td>\n",
              "      <td>4</td>\n",
              "      <td>33</td>\n",
              "      <td>4</td>\n",
              "      <td>76</td>\n",
              "      <td>NaN</td>\n",
              "    </tr>\n",
              "    <tr>\n",
              "      <th>5</th>\n",
              "      <td>니퍼트</td>\n",
              "      <td>2016</td>\n",
              "      <td>두산</td>\n",
              "      <td>2.95</td>\n",
              "      <td>701</td>\n",
              "      <td>151</td>\n",
              "      <td>15</td>\n",
              "      <td>57</td>\n",
              "      <td>9</td>\n",
              "      <td>142</td>\n",
              "      <td>NaN</td>\n",
              "    </tr>\n",
              "    <tr>\n",
              "      <th>6</th>\n",
              "      <td>니퍼트</td>\n",
              "      <td>2017</td>\n",
              "      <td>두산</td>\n",
              "      <td>4.06</td>\n",
              "      <td>782</td>\n",
              "      <td>175</td>\n",
              "      <td>20</td>\n",
              "      <td>77</td>\n",
              "      <td>10</td>\n",
              "      <td>161</td>\n",
              "      <td>NaN</td>\n",
              "    </tr>\n",
              "    <tr>\n",
              "      <th>7</th>\n",
              "      <td>니퍼트</td>\n",
              "      <td>2018</td>\n",
              "      <td>KT</td>\n",
              "      <td>4.25</td>\n",
              "      <td>765</td>\n",
              "      <td>209</td>\n",
              "      <td>26</td>\n",
              "      <td>39</td>\n",
              "      <td>9</td>\n",
              "      <td>165</td>\n",
              "      <td>NaN</td>\n",
              "    </tr>\n",
              "    <tr>\n",
              "      <th>8</th>\n",
              "      <td>다이아몬드</td>\n",
              "      <td>2017</td>\n",
              "      <td>SK</td>\n",
              "      <td>4.42</td>\n",
              "      <td>581</td>\n",
              "      <td>163</td>\n",
              "      <td>11</td>\n",
              "      <td>35</td>\n",
              "      <td>9</td>\n",
              "      <td>59</td>\n",
              "      <td>NaN</td>\n",
              "    </tr>\n",
              "    <tr>\n",
              "      <th>9</th>\n",
              "      <td>듀브론트</td>\n",
              "      <td>2018</td>\n",
              "      <td>롯데</td>\n",
              "      <td>4.92</td>\n",
              "      <td>629</td>\n",
              "      <td>162</td>\n",
              "      <td>13</td>\n",
              "      <td>62</td>\n",
              "      <td>8</td>\n",
              "      <td>109</td>\n",
              "      <td>NaN</td>\n",
              "    </tr>\n",
              "  </tbody>\n",
              "</table>\n",
              "</div>"
            ],
            "text/plain": [
              "  pitcher_name  year team   ERA  TBF    H  HR  BB  HBP   SO year_born\n",
              "0          니퍼트  2011   두산  2.55  763  150   8  64   10  150       NaN\n",
              "1          니퍼트  2012   두산  3.20  785  156  15  68    8  126       NaN\n",
              "2          니퍼트  2013   두산  3.58  482  108   7  34    4  104       NaN\n",
              "3          니퍼트  2014   두산  3.81  760  186  17  48    6  158       NaN\n",
              "4          니퍼트  2015   두산  5.10  404  104   4  33    4   76       NaN\n",
              "5          니퍼트  2016   두산  2.95  701  151  15  57    9  142       NaN\n",
              "6          니퍼트  2017   두산  4.06  782  175  20  77   10  161       NaN\n",
              "7          니퍼트  2018   KT  4.25  765  209  26  39    9  165       NaN\n",
              "8        다이아몬드  2017   SK  4.42  581  163  11  35    9   59       NaN\n",
              "9         듀브론트  2018   롯데  4.92  629  162  13  62    8  109       NaN"
            ]
          },
          "execution_count": 53,
          "metadata": {},
          "output_type": "execute_result"
        }
      ],
      "source": [
        "_11_18_KboRegSsn.head(10)"
      ]
    },
    {
      "cell_type": "code",
      "execution_count": null,
      "id": "enhanced-mortgage",
      "metadata": {
        "id": "enhanced-mortgage",
        "outputId": "d3b523cb-5e29-4e1b-f8fd-ca0dabe07dee"
      },
      "outputs": [
        {
          "data": {
            "text/html": [
              "<div>\n",
              "<style scoped>\n",
              "    .dataframe tbody tr th:only-of-type {\n",
              "        vertical-align: middle;\n",
              "    }\n",
              "\n",
              "    .dataframe tbody tr th {\n",
              "        vertical-align: top;\n",
              "    }\n",
              "\n",
              "    .dataframe thead th {\n",
              "        text-align: right;\n",
              "    }\n",
              "</style>\n",
              "<table border=\"1\" class=\"dataframe\">\n",
              "  <thead>\n",
              "    <tr style=\"text-align: right;\">\n",
              "      <th></th>\n",
              "      <th>pitcher_name</th>\n",
              "      <th>year</th>\n",
              "      <th>ERA</th>\n",
              "      <th>WAR</th>\n",
              "      <th>TBF</th>\n",
              "      <th>H</th>\n",
              "      <th>HR</th>\n",
              "      <th>BB</th>\n",
              "      <th>HBP</th>\n",
              "      <th>SO</th>\n",
              "      <th>WHIP</th>\n",
              "      <th>BABIP</th>\n",
              "      <th>FIP</th>\n",
              "      <th>LD%</th>\n",
              "      <th>GB%</th>\n",
              "      <th>FB%</th>\n",
              "      <th>IFFB%</th>\n",
              "      <th>SwStr%</th>\n",
              "      <th>Swing%</th>\n",
              "    </tr>\n",
              "  </thead>\n",
              "  <tbody>\n",
              "    <tr>\n",
              "      <th>0</th>\n",
              "      <td>오간도</td>\n",
              "      <td>2011.0</td>\n",
              "      <td>3.51</td>\n",
              "      <td>3.3</td>\n",
              "      <td>693.0</td>\n",
              "      <td>149.0</td>\n",
              "      <td>16.0</td>\n",
              "      <td>43.0</td>\n",
              "      <td>7.0</td>\n",
              "      <td>126.0</td>\n",
              "      <td>1.14</td>\n",
              "      <td>0.265</td>\n",
              "      <td>3.65</td>\n",
              "      <td>0.237</td>\n",
              "      <td>0.364</td>\n",
              "      <td>0.674</td>\n",
              "      <td>0.147</td>\n",
              "      <td>0.090</td>\n",
              "      <td>0.475</td>\n",
              "    </tr>\n",
              "    <tr>\n",
              "      <th>1</th>\n",
              "      <td>험버</td>\n",
              "      <td>2011.0</td>\n",
              "      <td>3.75</td>\n",
              "      <td>3.2</td>\n",
              "      <td>676.0</td>\n",
              "      <td>151.0</td>\n",
              "      <td>14.0</td>\n",
              "      <td>41.0</td>\n",
              "      <td>6.0</td>\n",
              "      <td>116.0</td>\n",
              "      <td>1.18</td>\n",
              "      <td>0.275</td>\n",
              "      <td>3.58</td>\n",
              "      <td>0.168</td>\n",
              "      <td>0.471</td>\n",
              "      <td>0.458</td>\n",
              "      <td>0.094</td>\n",
              "      <td>0.092</td>\n",
              "      <td>0.463</td>\n",
              "    </tr>\n",
              "    <tr>\n",
              "      <th>2</th>\n",
              "      <td>루카스</td>\n",
              "      <td>2012.0</td>\n",
              "      <td>3.76</td>\n",
              "      <td>2.8</td>\n",
              "      <td>827.0</td>\n",
              "      <td>185.0</td>\n",
              "      <td>13.0</td>\n",
              "      <td>78.0</td>\n",
              "      <td>1.0</td>\n",
              "      <td>140.0</td>\n",
              "      <td>1.36</td>\n",
              "      <td>0.289</td>\n",
              "      <td>3.75</td>\n",
              "      <td>0.203</td>\n",
              "      <td>0.572</td>\n",
              "      <td>0.707</td>\n",
              "      <td>0.082</td>\n",
              "      <td>0.062</td>\n",
              "      <td>0.424</td>\n",
              "    </tr>\n",
              "    <tr>\n",
              "      <th>3</th>\n",
              "      <td>다이아몬드</td>\n",
              "      <td>2012.0</td>\n",
              "      <td>3.54</td>\n",
              "      <td>2.2</td>\n",
              "      <td>714.0</td>\n",
              "      <td>184.0</td>\n",
              "      <td>17.0</td>\n",
              "      <td>31.0</td>\n",
              "      <td>4.0</td>\n",
              "      <td>90.0</td>\n",
              "      <td>1.24</td>\n",
              "      <td>0.292</td>\n",
              "      <td>3.94</td>\n",
              "      <td>0.210</td>\n",
              "      <td>0.534</td>\n",
              "      <td>0.597</td>\n",
              "      <td>0.040</td>\n",
              "      <td>0.068</td>\n",
              "      <td>0.467</td>\n",
              "    </tr>\n",
              "    <tr>\n",
              "      <th>4</th>\n",
              "      <td>듀브론트</td>\n",
              "      <td>2013.0</td>\n",
              "      <td>4.32</td>\n",
              "      <td>2.2</td>\n",
              "      <td>705.0</td>\n",
              "      <td>161.0</td>\n",
              "      <td>13.0</td>\n",
              "      <td>71.0</td>\n",
              "      <td>5.0</td>\n",
              "      <td>139.0</td>\n",
              "      <td>1.43</td>\n",
              "      <td>0.310</td>\n",
              "      <td>3.78</td>\n",
              "      <td>0.199</td>\n",
              "      <td>0.456</td>\n",
              "      <td>0.633</td>\n",
              "      <td>0.127</td>\n",
              "      <td>0.077</td>\n",
              "      <td>0.434</td>\n",
              "    </tr>\n",
              "    <tr>\n",
              "      <th>5</th>\n",
              "      <td>스와잭</td>\n",
              "      <td>2017.0</td>\n",
              "      <td>2.33</td>\n",
              "      <td>2.2</td>\n",
              "      <td>303.0</td>\n",
              "      <td>58.0</td>\n",
              "      <td>6.0</td>\n",
              "      <td>22.0</td>\n",
              "      <td>2.0</td>\n",
              "      <td>91.0</td>\n",
              "      <td>1.03</td>\n",
              "      <td>0.286</td>\n",
              "      <td>2.74</td>\n",
              "      <td>0.155</td>\n",
              "      <td>0.439</td>\n",
              "      <td>0.485</td>\n",
              "      <td>0.145</td>\n",
              "      <td>0.142</td>\n",
              "      <td>0.500</td>\n",
              "    </tr>\n",
              "    <tr>\n",
              "      <th>6</th>\n",
              "      <td>듀브론트</td>\n",
              "      <td>2012.0</td>\n",
              "      <td>4.86</td>\n",
              "      <td>1.3</td>\n",
              "      <td>709.0</td>\n",
              "      <td>162.0</td>\n",
              "      <td>24.0</td>\n",
              "      <td>71.0</td>\n",
              "      <td>5.0</td>\n",
              "      <td>167.0</td>\n",
              "      <td>1.45</td>\n",
              "      <td>0.312</td>\n",
              "      <td>4.37</td>\n",
              "      <td>0.234</td>\n",
              "      <td>0.437</td>\n",
              "      <td>0.635</td>\n",
              "      <td>0.086</td>\n",
              "      <td>0.096</td>\n",
              "      <td>0.442</td>\n",
              "    </tr>\n",
              "    <tr>\n",
              "      <th>7</th>\n",
              "      <td>탈보트</td>\n",
              "      <td>2010.0</td>\n",
              "      <td>4.41</td>\n",
              "      <td>1.2</td>\n",
              "      <td>696.0</td>\n",
              "      <td>169.0</td>\n",
              "      <td>13.0</td>\n",
              "      <td>69.0</td>\n",
              "      <td>8.0</td>\n",
              "      <td>88.0</td>\n",
              "      <td>1.49</td>\n",
              "      <td>0.301</td>\n",
              "      <td>4.48</td>\n",
              "      <td>0.169</td>\n",
              "      <td>0.478</td>\n",
              "      <td>0.495</td>\n",
              "      <td>0.070</td>\n",
              "      <td>0.060</td>\n",
              "      <td>0.428</td>\n",
              "    </tr>\n",
              "    <tr>\n",
              "      <th>8</th>\n",
              "      <td>비야누에바</td>\n",
              "      <td>2011.0</td>\n",
              "      <td>4.04</td>\n",
              "      <td>1.2</td>\n",
              "      <td>454.0</td>\n",
              "      <td>103.0</td>\n",
              "      <td>11.0</td>\n",
              "      <td>32.0</td>\n",
              "      <td>4.0</td>\n",
              "      <td>68.0</td>\n",
              "      <td>1.26</td>\n",
              "      <td>0.271</td>\n",
              "      <td>4.10</td>\n",
              "      <td>0.219</td>\n",
              "      <td>0.356</td>\n",
              "      <td>0.462</td>\n",
              "      <td>0.151</td>\n",
              "      <td>0.078</td>\n",
              "      <td>0.433</td>\n",
              "    </tr>\n",
              "    <tr>\n",
              "      <th>9</th>\n",
              "      <td>비야누에바</td>\n",
              "      <td>2014.0</td>\n",
              "      <td>4.64</td>\n",
              "      <td>1.2</td>\n",
              "      <td>343.0</td>\n",
              "      <td>89.0</td>\n",
              "      <td>6.0</td>\n",
              "      <td>19.0</td>\n",
              "      <td>3.0</td>\n",
              "      <td>72.0</td>\n",
              "      <td>1.39</td>\n",
              "      <td>0.342</td>\n",
              "      <td>3.13</td>\n",
              "      <td>0.202</td>\n",
              "      <td>0.413</td>\n",
              "      <td>0.474</td>\n",
              "      <td>0.161</td>\n",
              "      <td>0.113</td>\n",
              "      <td>0.486</td>\n",
              "    </tr>\n",
              "  </tbody>\n",
              "</table>\n",
              "</div>"
            ],
            "text/plain": [
              "  pitcher_name    year   ERA  WAR    TBF      H    HR    BB  HBP     SO  WHIP  \\\n",
              "0          오간도  2011.0  3.51  3.3  693.0  149.0  16.0  43.0  7.0  126.0  1.14   \n",
              "1           험버  2011.0  3.75  3.2  676.0  151.0  14.0  41.0  6.0  116.0  1.18   \n",
              "2          루카스  2012.0  3.76  2.8  827.0  185.0  13.0  78.0  1.0  140.0  1.36   \n",
              "3        다이아몬드  2012.0  3.54  2.2  714.0  184.0  17.0  31.0  4.0   90.0  1.24   \n",
              "4         듀브론트  2013.0  4.32  2.2  705.0  161.0  13.0  71.0  5.0  139.0  1.43   \n",
              "5          스와잭  2017.0  2.33  2.2  303.0   58.0   6.0  22.0  2.0   91.0  1.03   \n",
              "6         듀브론트  2012.0  4.86  1.3  709.0  162.0  24.0  71.0  5.0  167.0  1.45   \n",
              "7          탈보트  2010.0  4.41  1.2  696.0  169.0  13.0  69.0  8.0   88.0  1.49   \n",
              "8        비야누에바  2011.0  4.04  1.2  454.0  103.0  11.0  32.0  4.0   68.0  1.26   \n",
              "9        비야누에바  2014.0  4.64  1.2  343.0   89.0   6.0  19.0  3.0   72.0  1.39   \n",
              "\n",
              "   BABIP   FIP    LD%    GB%    FB%  IFFB%  SwStr%  Swing%  \n",
              "0  0.265  3.65  0.237  0.364  0.674  0.147   0.090   0.475  \n",
              "1  0.275  3.58  0.168  0.471  0.458  0.094   0.092   0.463  \n",
              "2  0.289  3.75  0.203  0.572  0.707  0.082   0.062   0.424  \n",
              "3  0.292  3.94  0.210  0.534  0.597  0.040   0.068   0.467  \n",
              "4  0.310  3.78  0.199  0.456  0.633  0.127   0.077   0.434  \n",
              "5  0.286  2.74  0.155  0.439  0.485  0.145   0.142   0.500  \n",
              "6  0.312  4.37  0.234  0.437  0.635  0.086   0.096   0.442  \n",
              "7  0.301  4.48  0.169  0.478  0.495  0.070   0.060   0.428  \n",
              "8  0.271  4.10  0.219  0.356  0.462  0.151   0.078   0.433  \n",
              "9  0.342  3.13  0.202  0.413  0.474  0.161   0.113   0.486  "
            ]
          },
          "execution_count": 54,
          "metadata": {},
          "output_type": "execute_result"
        }
      ],
      "source": [
        "_11_18_MlbTot.head(10)"
      ]
    },
    {
      "cell_type": "code",
      "execution_count": null,
      "id": "weighted-hudson",
      "metadata": {
        "id": "weighted-hudson",
        "outputId": "a2c8ca0e-cbd3-4b2d-e0f9-510d9b0392f3"
      },
      "outputs": [
        {
          "data": {
            "text/html": [
              "<div>\n",
              "<style scoped>\n",
              "    .dataframe tbody tr th:only-of-type {\n",
              "        vertical-align: middle;\n",
              "    }\n",
              "\n",
              "    .dataframe tbody tr th {\n",
              "        vertical-align: top;\n",
              "    }\n",
              "\n",
              "    .dataframe thead th {\n",
              "        text-align: right;\n",
              "    }\n",
              "</style>\n",
              "<table border=\"1\" class=\"dataframe\">\n",
              "  <thead>\n",
              "    <tr style=\"text-align: right;\">\n",
              "      <th></th>\n",
              "      <th>game_date</th>\n",
              "      <th>release_speed</th>\n",
              "      <th>batter</th>\n",
              "      <th>pitcher</th>\n",
              "      <th>events</th>\n",
              "      <th>description</th>\n",
              "      <th>zone</th>\n",
              "      <th>stand</th>\n",
              "      <th>p_throws</th>\n",
              "      <th>bb_type</th>\n",
              "      <th>...</th>\n",
              "      <th>plate_x</th>\n",
              "      <th>plate_z</th>\n",
              "      <th>ax</th>\n",
              "      <th>ay</th>\n",
              "      <th>az</th>\n",
              "      <th>launch_speed</th>\n",
              "      <th>launch_angle</th>\n",
              "      <th>release_spin_rate</th>\n",
              "      <th>pitch_name</th>\n",
              "      <th>pitcher_name</th>\n",
              "    </tr>\n",
              "  </thead>\n",
              "  <tbody>\n",
              "    <tr>\n",
              "      <th>0</th>\n",
              "      <td>2010-10-09</td>\n",
              "      <td>93.0</td>\n",
              "      <td>425834.0</td>\n",
              "      <td>430962</td>\n",
              "      <td>field_out</td>\n",
              "      <td>hit_into_play</td>\n",
              "      <td>4.0</td>\n",
              "      <td>R</td>\n",
              "      <td>R</td>\n",
              "      <td>popup</td>\n",
              "      <td>...</td>\n",
              "      <td>-0.626</td>\n",
              "      <td>2.771</td>\n",
              "      <td>-6.404</td>\n",
              "      <td>26.077</td>\n",
              "      <td>-9.694</td>\n",
              "      <td>NaN</td>\n",
              "      <td>NaN</td>\n",
              "      <td>NaN</td>\n",
              "      <td>4-Seam Fastball</td>\n",
              "      <td>니퍼트</td>\n",
              "    </tr>\n",
              "    <tr>\n",
              "      <th>1</th>\n",
              "      <td>2010-10-09</td>\n",
              "      <td>95.2</td>\n",
              "      <td>150289.0</td>\n",
              "      <td>430962</td>\n",
              "      <td>home_run</td>\n",
              "      <td>hit_into_play_score</td>\n",
              "      <td>5.0</td>\n",
              "      <td>L</td>\n",
              "      <td>R</td>\n",
              "      <td>fly_ball</td>\n",
              "      <td>...</td>\n",
              "      <td>-0.112</td>\n",
              "      <td>2.401</td>\n",
              "      <td>-10.168</td>\n",
              "      <td>28.786</td>\n",
              "      <td>-8.895</td>\n",
              "      <td>NaN</td>\n",
              "      <td>NaN</td>\n",
              "      <td>NaN</td>\n",
              "      <td>4-Seam Fastball</td>\n",
              "      <td>니퍼트</td>\n",
              "    </tr>\n",
              "    <tr>\n",
              "      <th>2</th>\n",
              "      <td>2010-10-09</td>\n",
              "      <td>94.3</td>\n",
              "      <td>150289.0</td>\n",
              "      <td>430962</td>\n",
              "      <td>NaN</td>\n",
              "      <td>foul</td>\n",
              "      <td>2.0</td>\n",
              "      <td>L</td>\n",
              "      <td>R</td>\n",
              "      <td>NaN</td>\n",
              "      <td>...</td>\n",
              "      <td>0.272</td>\n",
              "      <td>3.052</td>\n",
              "      <td>-5.605</td>\n",
              "      <td>26.657</td>\n",
              "      <td>-7.794</td>\n",
              "      <td>NaN</td>\n",
              "      <td>NaN</td>\n",
              "      <td>NaN</td>\n",
              "      <td>4-Seam Fastball</td>\n",
              "      <td>니퍼트</td>\n",
              "    </tr>\n",
              "    <tr>\n",
              "      <th>3</th>\n",
              "      <td>2010-10-09</td>\n",
              "      <td>94.0</td>\n",
              "      <td>150289.0</td>\n",
              "      <td>430962</td>\n",
              "      <td>NaN</td>\n",
              "      <td>blocked_ball</td>\n",
              "      <td>13.0</td>\n",
              "      <td>L</td>\n",
              "      <td>R</td>\n",
              "      <td>NaN</td>\n",
              "      <td>...</td>\n",
              "      <td>-1.193</td>\n",
              "      <td>0.632</td>\n",
              "      <td>-9.099</td>\n",
              "      <td>30.273</td>\n",
              "      <td>-6.371</td>\n",
              "      <td>NaN</td>\n",
              "      <td>NaN</td>\n",
              "      <td>NaN</td>\n",
              "      <td>4-Seam Fastball</td>\n",
              "      <td>니퍼트</td>\n",
              "    </tr>\n",
              "    <tr>\n",
              "      <th>4</th>\n",
              "      <td>2010-10-09</td>\n",
              "      <td>92.8</td>\n",
              "      <td>150289.0</td>\n",
              "      <td>430962</td>\n",
              "      <td>NaN</td>\n",
              "      <td>ball</td>\n",
              "      <td>14.0</td>\n",
              "      <td>L</td>\n",
              "      <td>R</td>\n",
              "      <td>NaN</td>\n",
              "      <td>...</td>\n",
              "      <td>0.370</td>\n",
              "      <td>1.383</td>\n",
              "      <td>-5.846</td>\n",
              "      <td>27.290</td>\n",
              "      <td>-11.262</td>\n",
              "      <td>NaN</td>\n",
              "      <td>NaN</td>\n",
              "      <td>NaN</td>\n",
              "      <td>4-Seam Fastball</td>\n",
              "      <td>니퍼트</td>\n",
              "    </tr>\n",
              "    <tr>\n",
              "      <th>5</th>\n",
              "      <td>2010-10-09</td>\n",
              "      <td>80.8</td>\n",
              "      <td>150289.0</td>\n",
              "      <td>430962</td>\n",
              "      <td>NaN</td>\n",
              "      <td>foul_tip</td>\n",
              "      <td>13.0</td>\n",
              "      <td>L</td>\n",
              "      <td>R</td>\n",
              "      <td>NaN</td>\n",
              "      <td>...</td>\n",
              "      <td>-1.233</td>\n",
              "      <td>2.059</td>\n",
              "      <td>-10.897</td>\n",
              "      <td>18.539</td>\n",
              "      <td>-20.286</td>\n",
              "      <td>NaN</td>\n",
              "      <td>NaN</td>\n",
              "      <td>NaN</td>\n",
              "      <td>Changeup</td>\n",
              "      <td>니퍼트</td>\n",
              "    </tr>\n",
              "    <tr>\n",
              "      <th>6</th>\n",
              "      <td>2010-10-09</td>\n",
              "      <td>92.0</td>\n",
              "      <td>150289.0</td>\n",
              "      <td>430962</td>\n",
              "      <td>NaN</td>\n",
              "      <td>ball</td>\n",
              "      <td>9.0</td>\n",
              "      <td>L</td>\n",
              "      <td>R</td>\n",
              "      <td>NaN</td>\n",
              "      <td>...</td>\n",
              "      <td>0.510</td>\n",
              "      <td>1.722</td>\n",
              "      <td>-6.251</td>\n",
              "      <td>27.786</td>\n",
              "      <td>-10.031</td>\n",
              "      <td>NaN</td>\n",
              "      <td>NaN</td>\n",
              "      <td>NaN</td>\n",
              "      <td>4-Seam Fastball</td>\n",
              "      <td>니퍼트</td>\n",
              "    </tr>\n",
              "    <tr>\n",
              "      <th>7</th>\n",
              "      <td>2010-10-09</td>\n",
              "      <td>92.5</td>\n",
              "      <td>430632.0</td>\n",
              "      <td>430962</td>\n",
              "      <td>field_out</td>\n",
              "      <td>hit_into_play</td>\n",
              "      <td>13.0</td>\n",
              "      <td>L</td>\n",
              "      <td>R</td>\n",
              "      <td>line_drive</td>\n",
              "      <td>...</td>\n",
              "      <td>-1.010</td>\n",
              "      <td>2.212</td>\n",
              "      <td>-8.279</td>\n",
              "      <td>26.466</td>\n",
              "      <td>-8.376</td>\n",
              "      <td>NaN</td>\n",
              "      <td>NaN</td>\n",
              "      <td>NaN</td>\n",
              "      <td>4-Seam Fastball</td>\n",
              "      <td>니퍼트</td>\n",
              "    </tr>\n",
              "    <tr>\n",
              "      <th>8</th>\n",
              "      <td>2010-10-09</td>\n",
              "      <td>91.2</td>\n",
              "      <td>430632.0</td>\n",
              "      <td>430962</td>\n",
              "      <td>NaN</td>\n",
              "      <td>ball</td>\n",
              "      <td>13.0</td>\n",
              "      <td>L</td>\n",
              "      <td>R</td>\n",
              "      <td>NaN</td>\n",
              "      <td>...</td>\n",
              "      <td>-0.106</td>\n",
              "      <td>1.418</td>\n",
              "      <td>-9.239</td>\n",
              "      <td>25.490</td>\n",
              "      <td>-13.556</td>\n",
              "      <td>NaN</td>\n",
              "      <td>NaN</td>\n",
              "      <td>NaN</td>\n",
              "      <td>4-Seam Fastball</td>\n",
              "      <td>니퍼트</td>\n",
              "    </tr>\n",
              "    <tr>\n",
              "      <th>9</th>\n",
              "      <td>2010-10-09</td>\n",
              "      <td>91.8</td>\n",
              "      <td>430632.0</td>\n",
              "      <td>430962</td>\n",
              "      <td>NaN</td>\n",
              "      <td>ball</td>\n",
              "      <td>11.0</td>\n",
              "      <td>L</td>\n",
              "      <td>R</td>\n",
              "      <td>NaN</td>\n",
              "      <td>...</td>\n",
              "      <td>-1.426</td>\n",
              "      <td>2.971</td>\n",
              "      <td>-12.090</td>\n",
              "      <td>25.659</td>\n",
              "      <td>-15.250</td>\n",
              "      <td>NaN</td>\n",
              "      <td>NaN</td>\n",
              "      <td>NaN</td>\n",
              "      <td>2-Seam Fastball</td>\n",
              "      <td>니퍼트</td>\n",
              "    </tr>\n",
              "  </tbody>\n",
              "</table>\n",
              "<p>10 rows × 24 columns</p>\n",
              "</div>"
            ],
            "text/plain": [
              "    game_date  release_speed    batter  pitcher     events  \\\n",
              "0  2010-10-09           93.0  425834.0   430962  field_out   \n",
              "1  2010-10-09           95.2  150289.0   430962   home_run   \n",
              "2  2010-10-09           94.3  150289.0   430962        NaN   \n",
              "3  2010-10-09           94.0  150289.0   430962        NaN   \n",
              "4  2010-10-09           92.8  150289.0   430962        NaN   \n",
              "5  2010-10-09           80.8  150289.0   430962        NaN   \n",
              "6  2010-10-09           92.0  150289.0   430962        NaN   \n",
              "7  2010-10-09           92.5  430632.0   430962  field_out   \n",
              "8  2010-10-09           91.2  430632.0   430962        NaN   \n",
              "9  2010-10-09           91.8  430632.0   430962        NaN   \n",
              "\n",
              "           description  zone stand p_throws     bb_type  ...  plate_x  \\\n",
              "0        hit_into_play   4.0     R        R       popup  ...   -0.626   \n",
              "1  hit_into_play_score   5.0     L        R    fly_ball  ...   -0.112   \n",
              "2                 foul   2.0     L        R         NaN  ...    0.272   \n",
              "3         blocked_ball  13.0     L        R         NaN  ...   -1.193   \n",
              "4                 ball  14.0     L        R         NaN  ...    0.370   \n",
              "5             foul_tip  13.0     L        R         NaN  ...   -1.233   \n",
              "6                 ball   9.0     L        R         NaN  ...    0.510   \n",
              "7        hit_into_play  13.0     L        R  line_drive  ...   -1.010   \n",
              "8                 ball  13.0     L        R         NaN  ...   -0.106   \n",
              "9                 ball  11.0     L        R         NaN  ...   -1.426   \n",
              "\n",
              "   plate_z      ax      ay      az  launch_speed  launch_angle  \\\n",
              "0    2.771  -6.404  26.077  -9.694           NaN           NaN   \n",
              "1    2.401 -10.168  28.786  -8.895           NaN           NaN   \n",
              "2    3.052  -5.605  26.657  -7.794           NaN           NaN   \n",
              "3    0.632  -9.099  30.273  -6.371           NaN           NaN   \n",
              "4    1.383  -5.846  27.290 -11.262           NaN           NaN   \n",
              "5    2.059 -10.897  18.539 -20.286           NaN           NaN   \n",
              "6    1.722  -6.251  27.786 -10.031           NaN           NaN   \n",
              "7    2.212  -8.279  26.466  -8.376           NaN           NaN   \n",
              "8    1.418  -9.239  25.490 -13.556           NaN           NaN   \n",
              "9    2.971 -12.090  25.659 -15.250           NaN           NaN   \n",
              "\n",
              "   release_spin_rate       pitch_name  pitcher_name  \n",
              "0                NaN  4-Seam Fastball           니퍼트  \n",
              "1                NaN  4-Seam Fastball           니퍼트  \n",
              "2                NaN  4-Seam Fastball           니퍼트  \n",
              "3                NaN  4-Seam Fastball           니퍼트  \n",
              "4                NaN  4-Seam Fastball           니퍼트  \n",
              "5                NaN         Changeup           니퍼트  \n",
              "6                NaN  4-Seam Fastball           니퍼트  \n",
              "7                NaN  4-Seam Fastball           니퍼트  \n",
              "8                NaN  4-Seam Fastball           니퍼트  \n",
              "9                NaN  2-Seam Fastball           니퍼트  \n",
              "\n",
              "[10 rows x 24 columns]"
            ]
          },
          "execution_count": 55,
          "metadata": {},
          "output_type": "execute_result"
        }
      ],
      "source": [
        "_11_18_StatCast.head(10)"
      ]
    },
    {
      "cell_type": "code",
      "execution_count": null,
      "id": "opened-steering",
      "metadata": {
        "id": "opened-steering",
        "outputId": "f15dd5a6-0c9c-4952-cb6a-1f9bf03bc1a7"
      },
      "outputs": [
        {
          "data": {
            "text/plain": [
              "62"
            ]
          },
          "execution_count": 57,
          "metadata": {},
          "output_type": "execute_result"
        }
      ],
      "source": [
        "len(_11_18_KboRegSsn['pitcher_name'].unique())"
      ]
    },
    {
      "cell_type": "code",
      "execution_count": null,
      "id": "supposed-charles",
      "metadata": {
        "id": "supposed-charles",
        "outputId": "af577c7e-7aac-48ba-a19c-f0aaf4f2f017"
      },
      "outputs": [
        {
          "data": {
            "text/plain": [
              "60"
            ]
          },
          "execution_count": 58,
          "metadata": {},
          "output_type": "execute_result"
        }
      ],
      "source": [
        "len(_11_18_MlbTot['pitcher_name'].unique())"
      ]
    },
    {
      "cell_type": "code",
      "execution_count": null,
      "id": "embedded-congo",
      "metadata": {
        "id": "embedded-congo",
        "outputId": "e68ee48f-2109-4585-b751-9acd71ec0d7b"
      },
      "outputs": [
        {
          "data": {
            "text/plain": [
              "60"
            ]
          },
          "execution_count": 59,
          "metadata": {},
          "output_type": "execute_result"
        }
      ],
      "source": [
        "len(_11_18_StatCast['pitcher_name'].unique())"
      ]
    },
    {
      "cell_type": "code",
      "execution_count": null,
      "id": "rental-lyric",
      "metadata": {
        "id": "rental-lyric"
      },
      "outputs": [],
      "source": [
        "target = (set(_11_18_KboRegSsn['pitcher_name'])& set(_11_18_MlbTot['pitcher_name'])& set(_11_18_StatCast['pitcher_name']))\n",
        "# 11 - 18 년도 파일에 모두 존재하는 교집합 투수 이름이 필요"
      ]
    },
    {
      "cell_type": "code",
      "execution_count": null,
      "id": "referenced-clarity",
      "metadata": {
        "id": "referenced-clarity"
      },
      "outputs": [],
      "source": [
        "target = sorted(list(target))"
      ]
    },
    {
      "cell_type": "code",
      "execution_count": null,
      "id": "expensive-terrorism",
      "metadata": {
        "id": "expensive-terrorism",
        "outputId": "37171446-da4b-4af5-cd99-c89bb55ce850"
      },
      "outputs": [
        {
          "data": {
            "text/plain": [
              "57"
            ]
          },
          "execution_count": 65,
          "metadata": {},
          "output_type": "execute_result"
        }
      ],
      "source": [
        "len(target)"
      ]
    },
    {
      "cell_type": "code",
      "execution_count": null,
      "id": "convinced-saint",
      "metadata": {
        "id": "convinced-saint"
      },
      "outputs": [],
      "source": [
        "idx = _11_18_KboRegSsn.query('pitcher_name in @target').groupby('pitcher_name')['year'].idxmin().values"
      ]
    },
    {
      "cell_type": "code",
      "execution_count": null,
      "id": "infectious-crossing",
      "metadata": {
        "id": "infectious-crossing",
        "outputId": "abf23d5d-6903-40d3-b7a5-2b969bd65f1f"
      },
      "outputs": [
        {
          "data": {
            "text/html": [
              "<div>\n",
              "<style scoped>\n",
              "    .dataframe tbody tr th:only-of-type {\n",
              "        vertical-align: middle;\n",
              "    }\n",
              "\n",
              "    .dataframe tbody tr th {\n",
              "        vertical-align: top;\n",
              "    }\n",
              "\n",
              "    .dataframe thead th {\n",
              "        text-align: right;\n",
              "    }\n",
              "</style>\n",
              "<table border=\"1\" class=\"dataframe\">\n",
              "  <thead>\n",
              "    <tr style=\"text-align: right;\">\n",
              "      <th></th>\n",
              "      <th>pitcher_name</th>\n",
              "      <th>year</th>\n",
              "      <th>team</th>\n",
              "      <th>ERA</th>\n",
              "      <th>TBF</th>\n",
              "      <th>H</th>\n",
              "      <th>HR</th>\n",
              "      <th>BB</th>\n",
              "      <th>HBP</th>\n",
              "      <th>SO</th>\n",
              "      <th>year_born</th>\n",
              "    </tr>\n",
              "  </thead>\n",
              "  <tbody>\n",
              "    <tr>\n",
              "      <th>0</th>\n",
              "      <td>니퍼트</td>\n",
              "      <td>2011</td>\n",
              "      <td>두산</td>\n",
              "      <td>2.55</td>\n",
              "      <td>763</td>\n",
              "      <td>150</td>\n",
              "      <td>8</td>\n",
              "      <td>64</td>\n",
              "      <td>10</td>\n",
              "      <td>150</td>\n",
              "      <td>NaN</td>\n",
              "    </tr>\n",
              "    <tr>\n",
              "      <th>8</th>\n",
              "      <td>다이아몬드</td>\n",
              "      <td>2017</td>\n",
              "      <td>SK</td>\n",
              "      <td>4.42</td>\n",
              "      <td>581</td>\n",
              "      <td>163</td>\n",
              "      <td>11</td>\n",
              "      <td>35</td>\n",
              "      <td>9</td>\n",
              "      <td>59</td>\n",
              "      <td>NaN</td>\n",
              "    </tr>\n",
              "    <tr>\n",
              "      <th>9</th>\n",
              "      <td>듀브론트</td>\n",
              "      <td>2018</td>\n",
              "      <td>롯데</td>\n",
              "      <td>4.92</td>\n",
              "      <td>629</td>\n",
              "      <td>162</td>\n",
              "      <td>13</td>\n",
              "      <td>62</td>\n",
              "      <td>8</td>\n",
              "      <td>109</td>\n",
              "      <td>NaN</td>\n",
              "    </tr>\n",
              "    <tr>\n",
              "      <th>10</th>\n",
              "      <td>레나도</td>\n",
              "      <td>2017</td>\n",
              "      <td>삼성</td>\n",
              "      <td>6.80</td>\n",
              "      <td>243</td>\n",
              "      <td>70</td>\n",
              "      <td>11</td>\n",
              "      <td>27</td>\n",
              "      <td>6</td>\n",
              "      <td>28</td>\n",
              "      <td>NaN</td>\n",
              "    </tr>\n",
              "    <tr>\n",
              "      <th>11</th>\n",
              "      <td>레온</td>\n",
              "      <td>2016</td>\n",
              "      <td>삼성</td>\n",
              "      <td>11.25</td>\n",
              "      <td>40</td>\n",
              "      <td>16</td>\n",
              "      <td>2</td>\n",
              "      <td>1</td>\n",
              "      <td>1</td>\n",
              "      <td>7</td>\n",
              "      <td>NaN</td>\n",
              "    </tr>\n",
              "  </tbody>\n",
              "</table>\n",
              "</div>"
            ],
            "text/plain": [
              "   pitcher_name  year team    ERA  TBF    H  HR  BB  HBP   SO year_born\n",
              "0           니퍼트  2011   두산   2.55  763  150   8  64   10  150       NaN\n",
              "8         다이아몬드  2017   SK   4.42  581  163  11  35    9   59       NaN\n",
              "9          듀브론트  2018   롯데   4.92  629  162  13  62    8  109       NaN\n",
              "10          레나도  2017   삼성   6.80  243   70  11  27    6   28       NaN\n",
              "11           레온  2016   삼성  11.25   40   16   2   1    1    7       NaN"
            ]
          },
          "execution_count": 67,
          "metadata": {},
          "output_type": "execute_result"
        }
      ],
      "source": [
        "firstYearInKBO_11_18 = _11_18_KboRegSsn.loc[idx,:]\n",
        "firstYearInKBO_11_18.head()  "
      ]
    }
  ],
  "metadata": {
    "kernelspec": {
      "display_name": "Python 3",
      "language": "python",
      "name": "python3"
    },
    "language_info": {
      "codemirror_mode": {
        "name": "ipython",
        "version": 3
      },
      "file_extension": ".py",
      "mimetype": "text/x-python",
      "name": "python",
      "nbconvert_exporter": "python",
      "pygments_lexer": "ipython3",
      "version": "3.8.6"
    },
    "colab": {
      "provenance": [],
      "include_colab_link": true
    }
  },
  "nbformat": 4,
  "nbformat_minor": 5
}